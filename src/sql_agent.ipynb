{
  "cells": [
    {
      "cell_type": "code",
      "execution_count": 1,
      "id": "8377a51d",
      "metadata": {},
      "outputs": [
        {
          "data": {
            "text/plain": [
              "True"
            ]
          },
          "execution_count": 1,
          "metadata": {},
          "output_type": "execute_result"
        }
      ],
      "source": [
        "from dotenv import load_dotenv\n",
        "load_dotenv(override=True)"
      ]
    },
    {
      "cell_type": "code",
      "execution_count": 2,
      "id": "7a81f36f",
      "metadata": {},
      "outputs": [],
      "source": [
        "from langchain_google_genai import ChatGoogleGenerativeAI\n",
        "\n",
        "llm = ChatGoogleGenerativeAI(model=\"gemini-2.5-flash\", temperature=0)"
      ]
    },
    {
      "cell_type": "code",
      "execution_count": 3,
      "id": "mysql_connection",
      "metadata": {},
      "outputs": [
        {
          "name": "stdout",
          "output_type": "stream",
          "text": [
            "Dialect: mysql\n",
            "Available tables: ['actor', 'address', 'category', 'city', 'country', 'customer', 'film', 'film_actor', 'film_category', 'film_text', 'inventory', 'language', 'payment', 'rental', 'staff', 'store']\n",
            "Sample output from actor: [(1, 'PENELOPE', 'GUINESS', datetime.datetime(2006, 2, 15, 4, 34, 33)), (2, 'NICK', 'WAHLBERG', datetime.datetime(2006, 2, 15, 4, 34, 33)), (3, 'ED', 'CHASE', datetime.datetime(2006, 2, 15, 4, 34, 33)), (4, 'JENNIFER', 'DAVIS', datetime.datetime(2006, 2, 15, 4, 34, 33)), (5, 'JOHNNY', 'LOLLOBRIGIDA', datetime.datetime(2006, 2, 15, 4, 34, 33))]\n"
          ]
        },
        {
          "name": "stderr",
          "output_type": "stream",
          "text": [
            "c:\\Users\\dandycode\\Documents\\GitHub\\langgraph-sql-agent\\.venv\\Lib\\site-packages\\langchain_community\\utilities\\sql_database.py:159: SAWarning: Did not recognize type 'geometry' of column 'location'\n",
            "  self._metadata.reflect(\n"
          ]
        }
      ],
      "source": [
        "import os\n",
        "from langchain_community.utilities import SQLDatabase\n",
        "\n",
        "# MySQL 연결 설정\n",
        "# .env 파일에 다음 변수들을 설정하세요:\n",
        "# DB_USER=your_username\n",
        "# DB_PASSWORD=your_password\n",
        "# DB_HOST=localhost\n",
        "# DB_PORT=3306\n",
        "# DB_NAME=your_database\n",
        "\n",
        "db_uri = f\"mysql+pymysql://{os.getenv('DB_USER')}:{os.getenv('DB_PASSWORD')}@{os.getenv('DB_HOST')}:{os.getenv('DB_PORT')}/{os.getenv('DB_NAME')}\"\n",
        "\n",
        "try:\n",
        "    db = SQLDatabase.from_uri(db_uri)\n",
        "    print(f\"Dialect: {db.dialect}\")\n",
        "    print(f\"Available tables: {db.get_usable_table_names()}\")\n",
        "    \n",
        "    # 테이블이 있다면 샘플 데이터 조회\n",
        "    tables = db.get_usable_table_names()\n",
        "    if tables:\n",
        "        sample_table = tables[0]\n",
        "        print(f'Sample output from {sample_table}: {db.run(f\"SELECT * FROM {sample_table} LIMIT 5;\")}')\n",
        "    else:\n",
        "        print(\"No tables found in the database\")\n",
        "        \n",
        "except Exception as e:\n",
        "    print(f\"Database connection error: {e}\")\n",
        "    print(\"Please check your database credentials in .env file\")"
      ]
    },
    {
      "cell_type": "code",
      "execution_count": 4,
      "id": "sql_agent_setup",
      "metadata": {},
      "outputs": [
        {
          "name": "stdout",
          "output_type": "stream",
          "text": [
            "SQL Agent created successfully!\n"
          ]
        }
      ],
      "source": [
        "from langchain_community.agent_toolkits import create_sql_agent\n",
        "\n",
        "# SQL Agent 생성 (데이터베이스 연결이 성공한 경우에만)\n",
        "if 'db' in locals():\n",
        "    agent_executor = create_sql_agent(\n",
        "        llm=llm,\n",
        "        db=db,\n",
        "        agent_type=\"openai-tools\",\n",
        "        verbose=True\n",
        "    )\n",
        "    print(\"SQL Agent created successfully!\")\n",
        "else:\n",
        "    print(\"Database connection required to create SQL Agent\")"
      ]
    },
    {
      "cell_type": "code",
      "execution_count": 5,
      "id": "test_query",
      "metadata": {},
      "outputs": [],
      "source": [
        "# # SQL Agent 테스트 쿼리\n",
        "# if 'agent_executor' in locals():\n",
        "#     # 예시 질문들\n",
        "#     test_questions = [\n",
        "#         \"데이터베이스에 어떤 테이블들이 있나요?\",\n",
        "#         \"각 테이블의 스키마를 보여주세요\",\n",
        "#         # \"가장 많은 레코드를 가진 테이블은 무엇인가요?\"\n",
        "#     ]\n",
        "    \n",
        "#     for question in test_questions:\n",
        "#         print(f\"\\n질문: {question}\")\n",
        "#         try:\n",
        "#             result = agent_executor.invoke({\"input\": question})\n",
        "#             print(f\"답변: {result['output']}\")\n",
        "#         except Exception as e:\n",
        "#             print(f\"오류: {e}\")\n",
        "#         print(\"-\" * 50)\n",
        "# else:\n",
        "#     print(\"SQL Agent가 생성되지 않았습니다. 데이터베이스 연결을 확인하세요.\")"
      ]
    },
    {
      "cell_type": "code",
      "execution_count": 6,
      "id": "interactive_query_with_sql",
      "metadata": {},
      "outputs": [
        {
          "name": "stdout",
          "output_type": "stream",
          "text": [
            "============================================================\n",
            "🤖 SQL Agent와 대화하기 (SQL 쿼리 포함)\n",
            "============================================================\n",
            "💡 예시 질문들:\n",
            "   - 영화 테이블에서 가장 인기 있는 영화 5개를 보여주세요\n",
            "   - 각 카테고리별 영화 수를 알려주세요\n",
            "   - 가장 많이 대여된 영화는 무엇인가요?\n",
            "   - 고객별 총 결제 금액을 보여주세요\n",
            "   - 가장 높은 총 매출을 기록한 영화 카테고리 5개와 그 매출액을 내림차순으로 알려주세요.\n",
            "   - 현재 재고 목록에 있지만, 한 번도 대여된 적이 없는 영화의 제목과 해당 영화의 재고 개수를 조회해 주세요.\n",
            "   - 'quit' 또는 'exit'를 입력하면 종료됩니다\n",
            "------------------------------------------------------------\n",
            "\n",
            "🔍 질문: 각 카테고리별 영화 수를 알려주세요\n",
            "🤔 생각 중...\n"
          ]
        },
        {
          "name": "stderr",
          "output_type": "stream",
          "text": [
            "c:\\Users\\dandycode\\Documents\\GitHub\\langgraph-sql-agent\\.venv\\Lib\\site-packages\\langchain_community\\utilities\\sql_database.py:363: SAWarning: Cannot correctly sort tables; there are unresolvable cycles between tables \"staff, store\", which is usually caused by mutually dependent foreign key constraints.  Foreign key constraints involving these tables will not be considered; this warning may raise an error in a future release.\n",
            "  metadata_table_names = [tbl.name for tbl in self._metadata.sorted_tables]\n",
            "c:\\Users\\dandycode\\Documents\\GitHub\\langgraph-sql-agent\\.venv\\Lib\\site-packages\\langchain_community\\utilities\\sql_database.py:375: SAWarning: Cannot correctly sort tables; there are unresolvable cycles between tables \"staff, store\", which is usually caused by mutually dependent foreign key constraints.  Foreign key constraints involving these tables will not be considered; this warning may raise an error in a future release.\n",
            "  for tbl in self._metadata.sorted_tables\n"
          ]
        },
        {
          "name": "stdout",
          "output_type": "stream",
          "text": [
            "\n",
            "📝 실행된 SQL 쿼리:\n",
            "   1. SELECT c.name, COUNT(fc.film_id) AS film_count FROM category c JOIN film_category fc ON c.category_id = fc.category_id GROUP BY c.name ORDER BY film_count DESC;\n",
            "\n",
            "✅ 답변:\n",
            "각 카테고리별 영화 수는 다음과 같습니다:\n",
            "\n",
            "*   Sports: 74\n",
            "*   Foreign: 73\n",
            "*   Family: 69\n",
            "*   Documentary: 68\n",
            "*   Animation: 66\n",
            "*   Action: 64\n",
            "*   New: 63\n",
            "*   Drama: 62\n",
            "*   Games: 61\n",
            "*   Sci-Fi: 61\n",
            "*   Children: 60\n",
            "*   Comedy: 58\n",
            "*   Classics: 57\n",
            "*   Travel: 57\n",
            "*   Horror: 56\n",
            "*   Music: 51\n",
            "\n",
            "============================================================\n",
            "👋 SQL Agent 대화를 종료합니다.\n"
          ]
        }
      ],
      "source": [
        "# 대화형 SQL Agent - SQL 쿼리도 함께 출력\n",
        "import re\n",
        "from io import StringIO\n",
        "import sys\n",
        "\n",
        "if 'agent_executor' in locals():\n",
        "    print(\"=\" * 60)\n",
        "    print(\"🤖 SQL Agent와 대화하기 (SQL 쿼리 포함)\")\n",
        "    print(\"=\" * 60)\n",
        "    print(\"💡 예시 질문들:\")\n",
        "    print(\"   - 영화 테이블에서 가장 인기 있는 영화 5개를 보여주세요.\")\n",
        "    print(\"   - 각 카테고리별 영화 수를 알려주세요.\")\n",
        "    print(\"   - 가장 많이 대여된 영화는 무엇인가요?\")\n",
        "    print(\"   - 고객별 총 결제 금액을 보여주세요\")\n",
        "    print(\"   - 가장 높은 총 매출을 기록한 영화 카테고리 5개와 그 매출액을 내림차순으로 알려주세요.\")\n",
        "    print(\"   - 현재 재고 목록에 있지만, 한 번도 대여된 적이 없는 영화의 제목과 해당 영화의 재고 개수를 조회해 주세요.\")\n",
        "\n",
        "    print(\"   - 'quit' 또는 'exit'를 입력하면 종료됩니다\")\n",
        "    print(\"-\" * 60)\n",
        "    \n",
        "    while True:\n",
        "        try:\n",
        "            # 사용자 입력 받기\n",
        "            user_question = input(\"\\n❓ 질문을 입력하세요: \").strip()\n",
        "            \n",
        "            # 종료 조건\n",
        "            if user_question.lower() in ['quit', 'exit', '종료', 'q']:\n",
        "                print(\"👋 SQL Agent 대화를 종료합니다.\")\n",
        "                break\n",
        "            \n",
        "            # 빈 입력 처리\n",
        "            if not user_question:\n",
        "                print(\"⚠️  질문을 입력해주세요.\")\n",
        "                continue\n",
        "            \n",
        "            print(f\"\\n🔍 질문: {user_question}\")\n",
        "            print(\"🤔 생각 중...\")\n",
        "            \n",
        "            # stdout 캡처를 위한 설정\n",
        "            old_stdout = sys.stdout\n",
        "            captured_output = StringIO()\n",
        "            sys.stdout = captured_output\n",
        "            \n",
        "            try:\n",
        "                # SQL Agent 실행 (verbose=True이므로 SQL 쿼리가 출력됨)\n",
        "                result = agent_executor.invoke({\"input\": user_question})\n",
        "            finally:\n",
        "                # stdout 복원\n",
        "                sys.stdout = old_stdout\n",
        "            \n",
        "            # 캡처된 출력에서 SQL 쿼리 추출\n",
        "            captured_text = captured_output.getvalue()\n",
        "            \n",
        "            # SQL 쿼리 패턴 찾기\n",
        "            sql_pattern = r\"Invoking: `sql_db_query` with `\\{'query': '([^']+)'\\}`\"\n",
        "            sql_matches = re.findall(sql_pattern, captured_text, re.DOTALL)\n",
        "            sql_queries = [match for match in sql_matches if match.strip().upper().startswith('SELECT')]\n",
        "            \n",
        "            # SQL 쿼리 출력\n",
        "            if sql_queries:\n",
        "                print(f\"\\n📝 실행된 SQL 쿼리:\")\n",
        "                for i, query in enumerate(sql_queries, 1):\n",
        "                    clean_query = query.strip().replace('\\n', ' ')\n",
        "                    print(f\"   {i}. {clean_query}\")\n",
        "            \n",
        "            print(f\"\\n✅ 답변:\")\n",
        "            print(result['output'])\n",
        "            print(\"\\n\" + \"=\"*60)\n",
        "            \n",
        "        except KeyboardInterrupt:\n",
        "            print(\"\\n\\n👋 사용자가 중단했습니다. SQL Agent 대화를 종료합니다.\")\n",
        "            break\n",
        "        except Exception as e:\n",
        "            print(f\"\\n❌ 오류가 발생했습니다: {e}\")\n",
        "            print(\"다시 시도해주세요.\\n\")\n",
        "            \n",
        "else:\n",
        "    print(\"❌ SQL Agent가 생성되지 않았습니다. 위의 셀들을 먼저 실행해주세요.\")"
      ]
    }
  ],
  "metadata": {
    "kernelspec": {
      "display_name": ".venv",
      "language": "python",
      "name": "python3"
    },
    "language_info": {
      "codemirror_mode": {
        "name": "ipython",
        "version": 3
      },
      "file_extension": ".py",
      "mimetype": "text/x-python",
      "name": "python",
      "nbconvert_exporter": "python",
      "pygments_lexer": "ipython3",
      "version": "3.13.7"
    }
  },
  "nbformat": 4,
  "nbformat_minor": 5
}
